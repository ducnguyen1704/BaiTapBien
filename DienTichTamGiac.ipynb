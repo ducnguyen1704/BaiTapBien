{
 "cells": [
  {
   "cell_type": "code",
   "execution_count": 12,
   "source": [
    "import numpy as np\r\n",
    "import math"
   ],
   "outputs": [],
   "metadata": {}
  },
  {
   "cell_type": "code",
   "execution_count": 24,
   "source": [
    "a = float(input(\"Enter the length of side a: \"))\r\n",
    "b = float(input(\"Enter the length of side b: \"))\r\n",
    "c = float(input(\"Enter the length of side c: \"))"
   ],
   "outputs": [],
   "metadata": {}
  },
  {
   "cell_type": "code",
   "execution_count": 25,
   "source": [
    "s = (a + b + c)/2 #S là chu vi\r\n",
    "DienTich = math.sqrt(s*(s-a)*(s-b)*(s-c))\r\n",
    "print(\"Area of the triangle is: \", DienTich)"
   ],
   "outputs": [
    {
     "output_type": "stream",
     "name": "stdout",
     "text": [
      "Area of the triangle is:  6.928203230275509\n"
     ]
    }
   ],
   "metadata": {}
  },
  {
   "cell_type": "code",
   "execution_count": 26,
   "source": [
    "if(a == b or a == c or b == c):\r\n",
    "    print(\"tam giác cân\")\r\n",
    "if(a == b == c):\r\n",
    "    print(\"Tam giác đều\")\r\n",
    "else:\r\n",
    "    print(\"Tam giac thuong\")"
   ],
   "outputs": [
    {
     "output_type": "stream",
     "name": "stdout",
     "text": [
      "tam giác cân\n",
      "Tam giác đều\n"
     ]
    }
   ],
   "metadata": {}
  },
  {
   "cell_type": "code",
   "execution_count": null,
   "source": [],
   "outputs": [],
   "metadata": {}
  }
 ],
 "metadata": {
  "orig_nbformat": 4,
  "language_info": {
   "name": "python",
   "version": "3.7.0",
   "mimetype": "text/x-python",
   "codemirror_mode": {
    "name": "ipython",
    "version": 3
   },
   "pygments_lexer": "ipython3",
   "nbconvert_exporter": "python",
   "file_extension": ".py"
  },
  "kernelspec": {
   "name": "python3",
   "display_name": "Python 3.7.0 64-bit"
  },
  "interpreter": {
   "hash": "fbe69909b876abbd803d291e51ebabcdbbeff4e7f625f723ebefe76e750e4611"
  }
 },
 "nbformat": 4,
 "nbformat_minor": 2
}