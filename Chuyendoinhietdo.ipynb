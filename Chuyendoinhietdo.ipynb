{
 "cells": [
  {
   "cell_type": "code",
   "execution_count": 2,
   "source": [
    "c = float(input(\"Nhập giá trị của nhiệt độ C cần đổi\"))"
   ],
   "outputs": [],
   "metadata": {}
  },
  {
   "cell_type": "code",
   "execution_count": 3,
   "source": [
    "f = (9*(int(c))/5)+32\r\n",
    "print(\"Nhiệt độc C là: \", c)\r\n",
    "print(str(c) + \" \" + \"Độ C có giá trị bằng\"+\" \"+ str(f) + \" \" + \"Độ F\")"
   ],
   "outputs": [
    {
     "output_type": "stream",
     "name": "stdout",
     "text": [
      "Nhiệt độc C là:  2.0\n",
      "2.0 Độ C có giá trị bằng 35.6 Độ F\n"
     ]
    }
   ],
   "metadata": {}
  },
  {
   "cell_type": "code",
   "execution_count": null,
   "source": [],
   "outputs": [],
   "metadata": {}
  }
 ],
 "metadata": {
  "orig_nbformat": 4,
  "language_info": {
   "name": "python",
   "version": "3.7.0",
   "mimetype": "text/x-python",
   "codemirror_mode": {
    "name": "ipython",
    "version": 3
   },
   "pygments_lexer": "ipython3",
   "nbconvert_exporter": "python",
   "file_extension": ".py"
  },
  "kernelspec": {
   "name": "python3",
   "display_name": "Python 3.7.0 64-bit"
  },
  "interpreter": {
   "hash": "fbe69909b876abbd803d291e51ebabcdbbeff4e7f625f723ebefe76e750e4611"
  }
 },
 "nbformat": 4,
 "nbformat_minor": 2
}