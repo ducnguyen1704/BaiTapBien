{
 "cells": [
  {
   "cell_type": "code",
   "execution_count": 33,
   "source": [
    "import turtle\r\n",
    "import math\r\n",
    "\r\n",
    "t = turtle.Turtle()\r\n",
    "# for background\r\n",
    "screen = turtle.Screen()\r\n",
    "screen.bgcolor(\"lavender\")"
   ],
   "outputs": [],
   "metadata": {}
  },
  {
   "cell_type": "code",
   "execution_count": 34,
   "source": [
    "# tạo con rùa.\r\n",
    "t.color(\"blue\")\r\n",
    "t.shape(\"turtle\")\r\n",
    "t.shape(\"turtle\")\r\n",
    "t.speed(10)"
   ],
   "outputs": [],
   "metadata": {}
  },
  {
   "cell_type": "code",
   "execution_count": 35,
   "source": [
    "# móng\r\n",
    "t.penup()\r\n",
    "t.goto(-300,-350)\r\n",
    "t.pendown()\r\n",
    "t.fillcolor(\"MistyRose1\")\r\n",
    "t.begin_fill()\r\n",
    "t.pensize(4)\r\n",
    "t.pencolor(\"black\")\r\n",
    "for i in range(2):\r\n",
    "    t.forward(700)\r\n",
    "    t.left(90)\r\n",
    "    t.forward(90)\r\n",
    "    t.left(90)\r\n",
    "t.end_fill()"
   ],
   "outputs": [],
   "metadata": {}
  },
  {
   "cell_type": "code",
   "execution_count": 36,
   "source": [
    "t.left(90)\r\n",
    "t.forward(90)\r\n",
    "t.right(90)\r\n",
    "t.forward(50)"
   ],
   "outputs": [],
   "metadata": {}
  },
  {
   "cell_type": "code",
   "execution_count": 37,
   "source": [
    "#Thân\r\n",
    "t.fillcolor(\"DeepSkyBlue1\")\r\n",
    "t.begin_fill()\r\n",
    "t.left(90)\r\n",
    "t.forward(200)\r\n",
    "t.right(90)\r\n",
    "t.backward(50)\r\n",
    "t.forward(700)\r\n",
    "t.backward(50)\r\n",
    "t.right(90)\r\n",
    "t.forward(200)\r\n",
    "t.right(90)\r\n",
    "t.forward(600)\r\n",
    "t.end_fill()"
   ],
   "outputs": [],
   "metadata": {}
  },
  {
   "cell_type": "code",
   "execution_count": 38,
   "source": [
    "#mái\r\n",
    "t.fillcolor(\"NavajoWhite1\")\r\n",
    "t.begin_fill()\r\n",
    "t.penup()\r\n",
    "t.goto(-300,-60)\r\n",
    "t.pendown()\r\n",
    "\r\n",
    "t.right(120)\r\n",
    "t.forward(100)\r\n",
    "t.right(60)\r\n",
    "t.forward(550)\r\n",
    "t.forward(50)\r\n",
    "t.right(60)\r\n",
    "t.forward(100)\r\n",
    "t.right(120)\r\n",
    "t.forward(700)\r\n",
    "t.end_fill()"
   ],
   "outputs": [],
   "metadata": {}
  },
  {
   "cell_type": "code",
   "execution_count": 39,
   "source": [
    "t.right(120)"
   ],
   "outputs": [],
   "metadata": {}
  },
  {
   "cell_type": "code",
   "execution_count": 40,
   "source": [
    "# thanh ngang mái\r\n",
    "t.forward(20)\r\n",
    "t.right(60)\r\n",
    "t.forward(680)"
   ],
   "outputs": [],
   "metadata": {}
  },
  {
   "cell_type": "code",
   "execution_count": 41,
   "source": [
    "#Đỉnh mái\r\n",
    "t.penup()\r\n",
    "t.goto(-250,28)\r\n",
    "t.pendown()\r\n",
    "t.left(90)\r\n",
    "\r\n",
    "# Mái tam giác\r\n",
    "t.forward(150)\r\n",
    "t.right(45)\r\n",
    "t.forward(200)\r\n",
    "t.right(90)\r\n",
    "t.forward(200)"
   ],
   "outputs": [],
   "metadata": {}
  },
  {
   "cell_type": "code",
   "execution_count": 42,
   "source": [
    "t.left(45)\r\n",
    "t.forward(350)\r\n",
    "\r\n",
    "t.left(90)\r\n",
    "t.forward(50)\r\n",
    "t.left(90)\r\n",
    "t.forward(350)"
   ],
   "outputs": [],
   "metadata": {}
  },
  {
   "cell_type": "code",
   "execution_count": 43,
   "source": [
    "t.right(45)\r\n",
    "t.forward(200)\r\n",
    "t.left(90)\r\n",
    "t.forward(200)\r\n",
    "\r\n",
    "t.left(45)\r\n",
    "t.forward(50)"
   ],
   "outputs": [],
   "metadata": {}
  },
  {
   "cell_type": "code",
   "execution_count": 44,
   "source": [
    "t.penup()\r\n",
    "t.goto(350,178)\r\n",
    "t.pendown()\r\n",
    "t.forward(150)"
   ],
   "outputs": [],
   "metadata": {}
  },
  {
   "cell_type": "code",
   "execution_count": 45,
   "source": [
    "# Vòng tròn\r\n",
    "t.penup()\r\n",
    "t.goto(230,150)\r\n",
    "t.pendown()\r\n",
    "t.right(90)\r\n",
    "t.circle(50)"
   ],
   "outputs": [],
   "metadata": {}
  },
  {
   "cell_type": "code",
   "execution_count": 46,
   "source": [
    "t.penup()\r\n",
    "t.goto(-20,280)\r\n",
    "t.pendown()\r\n",
    "\r\n",
    "t.right(120)\r\n",
    "t.forward(120)\r\n",
    "t.right(60)"
   ],
   "outputs": [],
   "metadata": {}
  },
  {
   "cell_type": "code",
   "execution_count": 47,
   "source": [
    "t.forward(344)\r\n",
    "t.right(90)\r\n",
    "t.forward(150)"
   ],
   "outputs": [],
   "metadata": {}
  },
  {
   "cell_type": "code",
   "execution_count": 48,
   "source": [
    "# Cửa sổ trên\r\n",
    "t.penup()\r\n",
    "t.goto(-190,50)\r\n",
    "t.pendown()\r\n",
    "\r\n",
    "t.left(90)\r\n",
    "t.forward(100)\r\n",
    "t.left(90)\r\n",
    "t.forward(150)\r\n",
    "t.left(90)\r\n",
    "t.forward(100)\r\n",
    "t.left(90)\r\n",
    "t.forward(150)"
   ],
   "outputs": [],
   "metadata": {}
  },
  {
   "cell_type": "code",
   "execution_count": 49,
   "source": [
    "t.penup()\r\n",
    "t.goto(-170,50)\r\n",
    "t.pendown()\r\n",
    "\r\n",
    "t.left(90)\r\n",
    "t.forward(100)\r\n",
    "t.left(90)\r\n",
    "t.forward(150)\r\n",
    "t.left(90)\r\n",
    "t.forward(100)\r\n",
    "t.left(90)\r\n",
    "t.forward(150)"
   ],
   "outputs": [],
   "metadata": {}
  },
  {
   "cell_type": "code",
   "execution_count": 50,
   "source": [
    "t.penup()\r\n",
    "t.goto(-150,50)\r\n",
    "t.pendown()\r\n",
    "\r\n",
    "t.left(90)\r\n",
    "t.forward(100)\r\n",
    "t.left(90)\r\n",
    "t.forward(150)\r\n",
    "t.left(90)\r\n",
    "t.forward(100)\r\n",
    "t.left(90)\r\n",
    "t.forward(150)"
   ],
   "outputs": [],
   "metadata": {}
  },
  {
   "cell_type": "code",
   "execution_count": 51,
   "source": [
    "t.penup()\r\n",
    "t.goto(-130,50)\r\n",
    "t.pendown()\r\n",
    "\r\n",
    "t.left(90)\r\n",
    "t.forward(100)\r\n",
    "t.left(90)\r\n",
    "t.forward(150)\r\n",
    "t.left(90)\r\n",
    "t.forward(100)\r\n",
    "t.left(90)\r\n",
    "t.forward(150)"
   ],
   "outputs": [],
   "metadata": {}
  },
  {
   "cell_type": "code",
   "execution_count": 52,
   "source": [
    "#Thân nhà\r\n",
    "t.penup()\r\n",
    "t.goto(0,-260)\r\n",
    "t.pendown()\r\n",
    "t.left(180)\r\n",
    "t.forward(200)\r\n",
    "\r\n",
    "t.penup()\r\n",
    "t.goto(180,-260)\r\n",
    "t.pendown()\r\n",
    "t.forward(200)"
   ],
   "outputs": [],
   "metadata": {}
  },
  {
   "cell_type": "code",
   "execution_count": 53,
   "source": [
    "#Thanh đậm\r\n",
    "t.penup()\r\n",
    "t.goto(190,-260)\r\n",
    "t.pendown()\r\n",
    "\r\n",
    "t.pensize(7)\r\n",
    "t.forward(200)\r\n",
    "\r\n",
    "t.penup()\r\n",
    "t.goto(-10,-260)\r\n",
    "t.pendown()\r\n",
    "t.pensize(7)\r\n",
    "t.forward(200)"
   ],
   "outputs": [],
   "metadata": {}
  },
  {
   "cell_type": "code",
   "execution_count": 54,
   "source": [
    "# cửa trái\r\n",
    "t.pensize(4)\r\n",
    "t.penup()\r\n",
    "t.goto(-80,-230)\r\n",
    "t.pendown()\r\n",
    "\r\n",
    "for i in range(2):\r\n",
    "    t.forward(130)\r\n",
    "    t.left(90) \r\n",
    "    t.forward(90)\r\n",
    "    t.left(90)\r\n",
    "\r\n"
   ],
   "outputs": [],
   "metadata": {}
  },
  {
   "cell_type": "code",
   "execution_count": 55,
   "source": [
    "#cửa giữa\r\n",
    "t.penup()\r\n",
    "t.goto(30,-260)\r\n",
    "t.pendown()\r\n",
    "\r\n",
    "for i in range(2):\r\n",
    "    t.forward(170)\r\n",
    "    t.right(90) \r\n",
    "    t.forward(120)\r\n",
    "    t.right(90)"
   ],
   "outputs": [],
   "metadata": {}
  },
  {
   "cell_type": "code",
   "execution_count": 56,
   "source": [
    "t.pensize(8)\r\n",
    "t.penup()\r\n",
    "t.goto(40,-200)\r\n",
    "t.pendown()\r\n",
    "t.forward(30)"
   ],
   "outputs": [],
   "metadata": {}
  },
  {
   "cell_type": "code",
   "execution_count": 57,
   "source": [
    "t.penup()\r\n",
    "t.goto(55,-185)\r\n",
    "t.pendown()\r\n",
    "t.circle(3)"
   ],
   "outputs": [],
   "metadata": {}
  },
  {
   "cell_type": "code",
   "execution_count": 58,
   "source": [
    "# cửa phải\r\n",
    "t.pensize(4)\r\n",
    "t.penup()\r\n",
    "t.goto(315,-230)\r\n",
    "t.pendown()\r\n",
    "\r\n",
    "for i in range(2):\r\n",
    "    t.forward(130)\r\n",
    "    t.left(90) \r\n",
    "    t.forward(90)\r\n",
    "    t.left(90)\r\n",
    "\r\n"
   ],
   "outputs": [],
   "metadata": {}
  },
  {
   "cell_type": "code",
   "execution_count": 59,
   "source": [
    "# ô cửa con phải\r\n",
    "t.penup()\r\n",
    "t.goto(295,-215)\r\n",
    "t.pendown()\r\n",
    "t.fillcolor(\"White\")\r\n",
    "t.begin_fill()\r\n",
    "for i in range(2):\r\n",
    "    t.forward(40)\r\n",
    "    t.left(90)\r\n",
    "    t.forward(50)\r\n",
    "    t.left(90)\r\n",
    "\r\n",
    "t.penup()\r\n",
    "t.goto(295,-160)\r\n",
    "t.pendown()\r\n",
    "\r\n",
    "for i in range(2):\r\n",
    "    t.forward(40)\r\n",
    "    t.left(90)\r\n",
    "    t.forward(50)\r\n",
    "    t.left(90)\r\n",
    "t.end_fill()"
   ],
   "outputs": [],
   "metadata": {}
  },
  {
   "cell_type": "code",
   "execution_count": 60,
   "source": [
    "# ô cửa con trái\r\n",
    "t.penup()\r\n",
    "t.goto(-100,-215)\r\n",
    "t.pendown()\r\n",
    "t.fillcolor(\"white\")\r\n",
    "t.begin_fill()\r\n",
    "for i in range(2):\r\n",
    "    t.forward(40)\r\n",
    "    t.left(90)\r\n",
    "    t.forward(50)\r\n",
    "    t.left(90)\r\n",
    "\r\n",
    "t.penup()\r\n",
    "t.goto(-100,-160)\r\n",
    "t.pendown()\r\n",
    "\r\n",
    "for i in range(2):\r\n",
    "    t.forward(40)\r\n",
    "    t.left(90)\r\n",
    "    t.forward(50)\r\n",
    "    t.left(90)\r\n",
    "t.end_fill()"
   ],
   "outputs": [],
   "metadata": {}
  },
  {
   "cell_type": "code",
   "execution_count": 61,
   "source": [
    "# Bậc thang\r\n",
    "t.penup()\r\n",
    "t.goto(-5,-260)\r\n",
    "t.pendown()\r\n",
    "\r\n",
    "t.backward(30)\r\n",
    "t.right(90)\r\n",
    "t.forward(190)\r\n",
    "t.left(90)\r\n",
    "t.forward(30)"
   ],
   "outputs": [],
   "metadata": {}
  },
  {
   "cell_type": "code",
   "execution_count": 62,
   "source": [
    "# Bậc thang\r\n",
    "t.penup()\r\n",
    "t.goto(-5,-290)\r\n",
    "t.pendown()\r\n",
    "\r\n",
    "t.left(90)\r\n",
    "t.forward(20)\r\n",
    "t.left(90)\r\n",
    "t.forward(30)\r\n",
    "t.left(90)\r\n",
    "t.forward(230)\r\n",
    "t.left(90)\r\n",
    "t.forward(30)\r\n",
    "t.left(90)\r\n",
    "t.forward(20)"
   ],
   "outputs": [],
   "metadata": {}
  },
  {
   "cell_type": "code",
   "execution_count": 63,
   "source": [
    "t.penup()\r\n",
    "t.goto(-25,-320)\r\n",
    "t.pendown()"
   ],
   "outputs": [],
   "metadata": {}
  },
  {
   "cell_type": "code",
   "execution_count": 64,
   "source": [
    "t.forward(20)\r\n",
    "t.left(90)\r\n",
    "t.forward(30)\r\n",
    "t.left(90)\r\n",
    "t.forward(270)\r\n",
    "t.left(90)\r\n",
    "t.forward(30)\r\n",
    "t.left(90)\r\n",
    "t.forward(20)"
   ],
   "outputs": [],
   "metadata": {}
  },
  {
   "cell_type": "code",
   "execution_count": null,
   "source": [],
   "outputs": [],
   "metadata": {}
  },
  {
   "cell_type": "code",
   "execution_count": null,
   "source": [],
   "outputs": [],
   "metadata": {}
  }
 ],
 "metadata": {
  "orig_nbformat": 4,
  "language_info": {
   "name": "python",
   "version": "3.7.0",
   "mimetype": "text/x-python",
   "codemirror_mode": {
    "name": "ipython",
    "version": 3
   },
   "pygments_lexer": "ipython3",
   "nbconvert_exporter": "python",
   "file_extension": ".py"
  },
  "kernelspec": {
   "name": "python3",
   "display_name": "Python 3.7.0 64-bit"
  },
  "interpreter": {
   "hash": "fbe69909b876abbd803d291e51ebabcdbbeff4e7f625f723ebefe76e750e4611"
  }
 },
 "nbformat": 4,
 "nbformat_minor": 2
}