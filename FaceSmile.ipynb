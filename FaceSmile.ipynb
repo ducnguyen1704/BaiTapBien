{
 "cells": [
  {
   "cell_type": "code",
   "execution_count": 1,
   "source": [
    "import turtle\r\n",
    "t = turtle.Turtle()"
   ],
   "outputs": [],
   "metadata": {}
  },
  {
   "cell_type": "code",
   "execution_count": 2,
   "source": [
    "# Vẽ mặt cười\r\n",
    "#define pen size\r\n",
    "t.pensize(5)\r\n",
    "#define pen color\r\n",
    "t.pencolor(\"Blue\") \r\n",
    "t.penup()\r\n",
    "t.goto(0, -200)\r\n",
    "t.pendown()\r\n",
    "#for outer bigger circle\r\n",
    "t.fillcolor(\"yellow\")\r\n",
    "t.begin_fill()\r\n",
    "facesize = 200\r\n",
    "t.circle(facesize)\r\n",
    "t.end_fill()\r\n",
    "\r\n",
    "#for eyes\r\n",
    "#Màu nền mắt là màu đỏ\r\n",
    "turtle.fillcolor (\"red\")\r\n",
    "turtle.penup()\r\n",
    "turtle.goto(-100,50)\r\n",
    "turtle.pendown()\r\n",
    " \r\n",
    "# khai bao bien eyesize lưu kích thước mắt\r\n",
    "eye_size = 17.5\r\n",
    " \r\n",
    "turtle.begin_fill()\r\n",
    "turtle.circle(eye_size)\r\n",
    "turtle.end_fill()\r\n",
    "turtle.penup()\r\n",
    " \r\n",
    "turtle.goto(100,50)\r\n",
    "turtle.pendown()\r\n",
    "turtle.begin_fill()\r\n",
    "turtle.circle(eye_size)\r\n",
    "turtle.end_fill()\r\n",
    "\r\n",
    "#for nose\r\n",
    "t.pencolor(\"red\")\r\n",
    "turtle.penup ()\r\n",
    "turtle.goto(0,50)\r\n",
    "turtle.pendown()\r\n",
    "t.fillcolor(\"green\")\r\n",
    "t.begin_fill()\r\n",
    "turtle.circle(-70, steps=3)\r\n",
    "t.end_fill()\r\n",
    "\r\n",
    "# for smile\r\n",
    "t.pencolor(\"brown\")\r\n",
    "turtle.penup()\r\n",
    "turtle.goto(-100, -70)\r\n",
    "turtle.pendown()\r\n",
    "turtle.right(90)\r\n",
    "turtle.circle(100,180)\r\n"
   ],
   "outputs": [],
   "metadata": {}
  },
  {
   "cell_type": "code",
   "execution_count": 3,
   "source": [
    "t.penup()\r\n",
    "t.goto(-100,170)\r\n",
    "t.pendown()\r\n",
    "# vẽ tai\r\n",
    "t.left(150)\r\n",
    "t.forward(70)\r\n",
    "t.left(120)\r\n",
    "t.forward(90)"
   ],
   "outputs": [],
   "metadata": {}
  },
  {
   "cell_type": "code",
   "execution_count": 5,
   "source": [
    "t.penup()\r\n",
    "t.goto(100,170)\r\n",
    "t.pendown()\r\n",
    "\r\n",
    "# vẽ tai\r\n",
    "t.right(240)\r\n",
    "t.forward(70)\r\n",
    "t.right(120)\r\n",
    "t.forward(90)"
   ],
   "outputs": [],
   "metadata": {}
  }
 ],
 "metadata": {
  "orig_nbformat": 4,
  "language_info": {
   "name": "python",
   "version": "3.7.0",
   "mimetype": "text/x-python",
   "codemirror_mode": {
    "name": "ipython",
    "version": 3
   },
   "pygments_lexer": "ipython3",
   "nbconvert_exporter": "python",
   "file_extension": ".py"
  },
  "kernelspec": {
   "name": "python3",
   "display_name": "Python 3.7.0 64-bit"
  },
  "interpreter": {
   "hash": "fbe69909b876abbd803d291e51ebabcdbbeff4e7f625f723ebefe76e750e4611"
  }
 },
 "nbformat": 4,
 "nbformat_minor": 2
}